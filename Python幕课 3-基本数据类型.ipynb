{
 "cells": [
  {
   "cell_type": "markdown",
   "metadata": {},
   "source": [
    "# 基本数据类型\n",
    "- 数字类型及操作\n",
    "    - 整数\n",
    "    - 浮点数\n",
    "    - 复数\n",
    "- 实例3：天天向上的力量\n",
    "- 字符串类型及操作\n",
    "- 模块2：time库的使用\n",
    "- 实例4：文本进度条"
   ]
  },
  {
   "cell_type": "markdown",
   "metadata": {},
   "source": [
    "## 数字类型及操作\n",
    "### 整数类型\n",
    "- 与数学中的整数概念一致\n",
    "- 可正可负，没有取值范围\n",
    "    - pow(x,y)函数：计算x^y，想算多大就算多大，如pow(2,100)，pow(2,pow(2,15))\n",
    "- Python的整数提供了四种进制表示形式：\n",
    "    - 十进制：1010，99，-217\n",
    "    - 二进制，以0b或者0B开头：0b010，-0B101\n",
    "    - 八进制，以0o或者0O开头：0o123，-0O456\n",
    "    - 十六进制，以0x或者0X开头：0x9a，-0X89\n",
    "    \n",
    "### 浮点数类型\n",
    "- 与数学中的实数概念一致\n",
    "- 带有小数点及小数的数字\n",
    "- 取值范围和小数精度都存在限制，但常规计算可以忽略\n",
    "    - 取值范围数量级约-10^308至10^308，精度数量级10^-16\n",
    "- 浮点数间运算存在不确定尾数，这不是bug\n",
    "    - 0.1 + 0.3 --->0.4\n",
    "    - 0.1 + 0.2 --->0.30000000000000004，0.3后面的数字即不确定尾数\n",
    "    - 不确定尾数问题在很多编程语言中都存在，涉及计算机对数字运算的内部实现原理\n",
    "        - 计算机中所有数字都采用二进制方式表示，在Python语言中使用53位二进制来表示浮点数的小数部分\n",
    "        - 计算机中的二进制和十进制之间不存在严格的对等关系，用二进制表示十进制小数，可以无限接近该十进制小数，但不完全相同\n",
    "            - 0.1在用二进制表示时是一个无限小数，计算机只能截取其中的53位，只能无限接近0.1但不真正等于0.1\n",
    "            - 将二进制的0.1转换成十进制的0.1时，十进制的0.1后面还会有很长的尾数，计算机将浮点数输出时只输出了其中的16位小数\n",
    "        - 浮点数间运算，先要在计算机内部经过二进制转换，然后进行二进制的运算，再经过反向转换变成十进制小数，最后结果会无限接近一个十进制小数，但可能会出现尾数\n",
    "    - 0.1 + 0.2 == 0.3 --->False 因为产生了不确定尾数\n",
    "        - 浮点数间运算和比较用round(x,d)函数辅助\n",
    "            - 不确定尾数一般发生在10^-16左右，round()十分有效\n",
    "            - round(x,d)：对x四舍五入，d是小数截取位数\n",
    "            - round(0.1+0.2,1) == 0.3 --->True\n",
    "- 浮点数可以采用科学计数法表示\n",
    "    - 使用字母e或E作为幂的符号，以10为计数，格式如下：\n",
    "            <a>e<b>，表示a*10^b\n",
    "          如：4.3e-3值为0.0043\n",
    "             9.6E5值为960000.0\n",
    "    \n",
    "\n",
    "### 复数类型\n",
    "- 与数学中的复数类型一致\n",
    "- 定义j=√(-1)，\n",
    "- a+bj被称为复数，其中a是实部，b是虚部\n",
    "    - 例如：z = 1.23e-4 + 5.6e + 89j\n",
    "        - 可以使用z.real获得实部，使用z.imag获得虚部\n",
    "\n",
    "### 数值运算操作符\n",
    "- 操作符是完成运算的一种符号体系\n",
    "\n",
    "|操作符及使用|描述       |\n",
    "|:---------|---------:|\n",
    "|x + y     |加，x与y之和|\n",
    "|x - y     |减，x与y之差|\n",
    "|x * y     |乘，x与y之积|\n",
    "|x / y     |除，x与y之商（Python中产生浮点数结果，如：10/3结果为3.3333333333333335）|\n",
    "|x // y    |整数除，x与y之整数商（10//3结果为3）|\n",
    "|+ x       |x本身      |\n",
    "|- y       |y的负值    |\n",
    "|x % y     |余数，模运算，x % y = x - [x//y] * y（10%3结果为1）|\n",
    "|x ** y    |幂运算，x的y次幂，x^y；当y是小数时，开方运算（10 ** 0.5结果为√10）|\n",
    "\n",
    "- 二元操作符有对应的增强赋值操作符\n",
    "\n",
    "|增强操作符及使用|描述     |\n",
    "|:------------|--------:|\n",
    "|             |即 x = x op y，其中，op为二元操作符|\n",
    "|             |x += y&nbsp;&nbsp; x -= y&nbsp;&nbsp; x &#42;= y&nbsp;&nbsp; x /= y|\n",
    "|x op y       |x //= y&nbsp;&nbsp; x %= y&nbsp;&nbsp; x &#42;&#42;= y             |\n",
    "|             |例如：x = 3.1415，x &#42;&#42;= 3(与x = x &#42;&#42;3等价)          |\n",
    "|             |结果为31.006276662836743                                            |\n",
    "\n",
    "- 数字类型的关系\n",
    "    - 类型间可进行混合运算，生成结果为“最宽”类型\n",
    "    - 三种类型存在一种逐渐“扩展”或“变宽”的关系：\n",
    "            整数-->浮点数-->复数\n",
    "    - 例如：123 + 4.0 = 127.0（整数+浮点数 = 浮点数）\n",
    "\n",
    "### 数值运算函数\n",
    "- 一些以函数形式提供的数值运算功能\n",
    "\n",
    "|函数及使用|描述       |\n",
    "|:-------|----------:|\n",
    "|abs(x)  |绝对值，x的绝对值，如：abs(-10.01)结果为10.01|\n",
    "|divmod(x,y)|商余，(x//y,&nbsp;&nbsp; x%y)，同时输出商和余数，如：divmod(10,3)结果为(3,1)|\n",
    "|pow(x,y[,z])|幂余，(x&#42;&#42;y)%z，[..]表示参数z可以省略，如：pow(3,pow(3,99),10000)结果为4587|\n",
    "|round(x[,d])|四舍五入，d是保留小数位数，默认值为0，如：round(-10.123,2)结果为-10.12|\n",
    "|max(x1,x2,...,xn)|最大值，返回x1,x2,...,xn中的最大值，n不限，如max(1,9,4,5,3)结果为9|\n",
    "|min(x1,x2,...,xn)|最小值，返回x1,x2,...,xn中的最小值，n不限，如min(1,9,4,5,3)结果为1|\n",
    "|int(x)           |将x变成整数，舍弃小数部分，如int(123.45)结果为123;&nbsp;&nbsp;int(\"123\")结果为123|\n",
    "|float(x)         |将x变成浮点数，增加小数部分，如float(12)结果为12.0;&nbsp;&nbsp:float(\"1.23\")结果为1.23|\n",
    "|complex(x)       |将x变成复数，增加虚数部分，如complex(4)结果为4+0j|"
   ]
  },
  {
   "cell_type": "markdown",
   "metadata": {},
   "source": [
    "## 实例3：天天向上的力量\n",
    "### 基本问题：持续的价值\n",
    "- 一年365天，每天进步1%，累计进步多少？\n",
    "        1.01^365\n",
    "- 一年365天，每天退步1%，累计剩下多少？\n",
    "        0.99^365\n",
    "\n",
    "### 需求分析\n",
    "- 数学公式可以求解，似乎没有必要用程序\n",
    "    - 但使用程序可以令公式求解更快\n",
    "- 如果问题改变一下，如：\n",
    "    - 三天打鱼两天晒网\n",
    "    - 双休日不退步\n",
    "    \n",
    "### 问题1：1‰的力量\n",
    "- 一年365天，每天进步1‰,累计进步多少？\n",
    "        1.001^365\n",
    "- 一年365天，每天退步1‰,累计退步多少？\n",
    "        0.999^365"
   ]
  },
  {
   "cell_type": "code",
   "execution_count": 1,
   "metadata": {},
   "outputs": [
    {
     "name": "stdout",
     "output_type": "stream",
     "text": [
      "向上：1.44，向下：0.69\n"
     ]
    }
   ],
   "source": [
    "# DayDayUpQ1\n",
    "dayup = pow(1.001, 365)\n",
    "daydown = pow(0.999, 365)\n",
    "print(\"向上：{:.2f}，向下：{:.2f}\".format(dayup,daydown))"
   ]
  },
  {
   "cell_type": "markdown",
   "metadata": {},
   "source": [
    "### 问题2：5‰和1%的力量\n",
    "- 一年365天，每天进步5‰或1%,累计进步多少？\n",
    "        1.005^365\n",
    "        1.01^365\n",
    "- 一年365天，每天退步5‰或1%,累计退步多少？\n",
    "        0.995^365\n",
    "        0.99^365"
   ]
  },
  {
   "cell_type": "code",
   "execution_count": 3,
   "metadata": {},
   "outputs": [
    {
     "name": "stdout",
     "output_type": "stream",
     "text": [
      "向上：6.17，向下：0.16\n",
      "向上：37.78，向下：0.03\n"
     ]
    }
   ],
   "source": [
    "# DayDayUpQ2\n",
    "dayfactor = 0.005 # 使用变量，好处是仅修改一处即可\n",
    "dayup = pow(1+dayfactor, 365)\n",
    "daydown = pow(1-dayfactor, 365)\n",
    "print(\"向上：{:.2f}，向下：{:.2f}\".format(dayup,daydown))\n",
    "\n",
    "dayfactor = 0.01 # 修改为1%\n",
    "dayup = pow(1+dayfactor, 365)\n",
    "daydown = pow(1-dayfactor, 365)\n",
    "print(\"向上：{:.2f}，向下：{:.2f}\".format(dayup,daydown))"
   ]
  },
  {
   "cell_type": "markdown",
   "metadata": {},
   "source": [
    "### 问题3：工作日的力量\n",
    "- 一年365天，一周5个工作日，每天进步1%\n",
    "- 一年365天，一周2个休息日，每天退步1%"
   ]
  },
  {
   "cell_type": "code",
   "execution_count": 5,
   "metadata": {},
   "outputs": [
    {
     "name": "stdout",
     "output_type": "stream",
     "text": [
      "工作日的力量：4.63\n"
     ]
    }
   ],
   "source": [
    "# DayDayUpQ3\n",
    "dayup = 1.0\n",
    "dayfactor = 0.01\n",
    "for i in range(365): # 采用循环模拟365天的过程，抽象+自动化\n",
    "    if i % 7 in [6,0]:\n",
    "        dayup = dayup * (1 - dayfactor)\n",
    "    else:\n",
    "        dayup = dayup * (1 + dayfactor)\n",
    "print(\"工作日的力量：{:.2f}\".format(dayup))"
   ]
  },
  {
   "cell_type": "markdown",
   "metadata": {},
   "source": [
    "### 问题4：工作日的力量\n",
    "- 工作日模式要努力到什么水平，才能与每天努力1%一样？\n",
    "- “笨方法”试错：\n",
    "\n",
    "            ----->工作日-x%            365-1%\n",
    "            |       |                   |\n",
    "            |       |                   |\n",
    "         把x加一点    --------------------\n",
    "            |                |\n",
    "            |     比不过      V\n",
    "            --------------比较一下\n",
    "                             |\n",
    "                             |比上了\n",
    "                             V\n",
    "                           输出x"
   ]
  },
  {
   "cell_type": "code",
   "execution_count": 6,
   "metadata": {},
   "outputs": [
    {
     "name": "stdout",
     "output_type": "stream",
     "text": [
      "工作日的努力参数是：0.019\n"
     ]
    }
   ],
   "source": [
    "# DayDayUpQ4\n",
    "def dayUP(df): # def保留字用于定义函数，该函数为根据df参数计算工作日力量的函数，参数不同，这段代码可以共用\n",
    "    dayup = 1\n",
    "    for i in range(365):\n",
    "        if i % 7 in [6,0]:\n",
    "            dayup = dayup * (1 - 0.01)\n",
    "        else:\n",
    "            dayup = dayup * (1 + df)\n",
    "    return dayup\n",
    "dayfactor = 0.01\n",
    "while dayUP(dayfactor) < 37.78: # while保留字判断条件是否成立，条件成立时循环执行\n",
    "    dayfactor += 0.001\n",
    "print(\"工作日的努力参数是：{:.3f}\".format(dayfactor))"
   ]
  },
  {
   "cell_type": "markdown",
   "metadata": {},
   "source": [
    "### “天天向上的力量”举一反三\n",
    "- 实例3包含很多语法元素\n",
    "    - 判断条件循环（while）、次数循环（for）、分支（if...else...）、函数（def()）、计算思维\n",
    "- 问题的变化和扩展\n",
    "    - 工作日模式中，休息日不下降如何？\n",
    "    - 每天努力提高1%，休息日下降1‰呢？\n",
    "    - 工作3天，休息1天呢？\n",
    "    - “三天打鱼，两天晒网”呢？\n",
    "    - “多一份努力”呢？（进步比退步多一点）\n",
    "    - “多一点懈怠”呢？（退步比进步多一点）"
   ]
  },
  {
   "cell_type": "markdown",
   "metadata": {},
   "source": [
    "## 字符串类型及操作\n",
    "### 字符串类型的表示\n",
    "- 字符串由0个或多个字符组成的有序字符序列\n",
    "    - 由一对单引号或者一对双引号表示，如\"请输入带有符号的温度值：\"或者'C'\n",
    "    - 是字符的有序序列，可以对其中的字符进行索引，如 \"请\" 是 \"请输入带有符号的温度值：\"的第0个字符\n",
    "- 字符串有2类，共4种表示方法（一对单引号、一对双引号、一对三单引号、一对三双引号）\n",
    "    - 由一对单引号或双引号表示，仅表示单行字符串，如\"请输入带有符号的温度值：\"或者'C'\n",
    "    - 由一对三单引号或三双引号表示，可表示多行字符串，如：\n",
    "                '''Python\n",
    "                \n",
    "                              语言'''\n",
    "    - 如果希望在字符串中包含双引号或单引号：\n",
    "            '这里有个双引号(\")' 或者 \"这里有个单引号(')\"\n",
    "    - 如果希望在字符串中既包括单引号又包括双引号：\n",
    "            '''这里既有单引号(')又有双引号(\")'''\n",
    "- 字符串的序号\n",
    "    - 正向递增序号和反向递减序号\n",
    "                                反向递减序号\n",
    "                    <----------------------------------\n",
    "            -12  -11  -10  -9  -8  -7  -6  -5  -4  -3  -2  -1\n",
    "             请   输    入   带  有  符   号  的  温   度  值   ：\n",
    "             0    1     2   3   4   5   6   7   8   9   10  11\n",
    "                     ---------------------------------->\n",
    "                                正向递增序号\n",
    "- 字符串的使用\n",
    "    - 索引：返回字符串中单个字符 <字符串>[M]\n",
    "            \"请输入带有符号的温度值：\"[0] 或者 TempStr[-1]\n",
    "    - 切片：返回字符串中一段字符子串 <字符串>[M:N]\n",
    "            \"请输入带有符号的温度值：\"[1:3] 或者 TempStr[0:-1]\n",
    "        - 切片的高级用法\n",
    "            - 使用[M:N:K]根据步长对字符串切片\n",
    "                - <字符串>[M:N]，M缺失表示“至开头”，N缺失表示“至结尾”，如：\n",
    "                        \"〇一二三四五六七八九十\"[:3]结果是\"〇一二\"\n",
    "                - <字符串>[M:N:K]，根据步长K对字符串切片，如：\n",
    "                        \"〇一二三四五六七八九十\"[1:8:2]，指从第1个字符开始到第8个字符前结束，以步长为2来获得其中的字符，最终获得的结果是\"一三五七\"\n",
    "                        \"〇一二三四五六七八九十\"[::-1]，表示字符串从最开头到最末尾，以步长为-1（即从后向前）来获取其中的字符，相当于将字符串进行逆序，结果是\"十九八七六五四三二一〇\"\n",
    "- 字符串的特殊字符\n",
    "    - 转义符\\\n",
    "        - 转义符表达特定字符的本意，如：\n",
    "                \"这里有个双引号(\\\")\"结果为 这里有个双引号(\")\n",
    "        - 转义符形成一些组合，表达一些不可打印的含义，如：\n",
    "                \"\\b\"回退（光标回退一个位置）； \"\\n\"换行（光标移动到下行首）； \"\\r\"回车（光标移动到本行首）\n",
    "\n",
    "### 字符串操作符\n",
    "|操作符及使用|描述          |\n",
    "|:---------|------------:|\n",
    "|x+y       |连接两个字符串，连接字符串x和字符串y|\n",
    "|n&#42;x或x&#42;n|复制n次字符串x|\n",
    "|x&nbsp;in&nbsp;s|保留字in，判断所在关系，如果x是s的子串，返回True，否则返回False|\n",
    "\n",
    "- 例：获取星期字符串\n",
    "    - 输入：1-7的整数，表示星期几\n",
    "    - 输出：输入整数对应的星期字符串\n",
    "    - 如：输入3，输出 星期三"
   ]
  },
  {
   "cell_type": "code",
   "execution_count": 3,
   "metadata": {},
   "outputs": [
    {
     "name": "stdout",
     "output_type": "stream",
     "text": [
      "请输入星期数字（1-7）：5\n",
      "星期五\n"
     ]
    }
   ],
   "source": [
    "# WeekNamePrintV1\n",
    "weekStr = \"星期一星期二星期三星期四星期五星期六星期日\"\n",
    "weekId = eval(input(\"请输入星期数字（1-7）：\"))\n",
    "pos = (weekId - 1) * 3\n",
    "print(weekStr[pos:pos+3])"
   ]
  },
  {
   "cell_type": "code",
   "execution_count": 4,
   "metadata": {},
   "outputs": [
    {
     "name": "stdout",
     "output_type": "stream",
     "text": [
      "请输入星期数字（1-7）：3\n",
      "星期三\n"
     ]
    }
   ],
   "source": [
    "# WeekNamePrintV2\n",
    "weekStr = \"一二三四五六日\"\n",
    "weekId = eval(input(\"请输入星期数字（1-7）：\"))\n",
    "print(\"星期\" + weekStr[weekId-1])"
   ]
  },
  {
   "cell_type": "markdown",
   "metadata": {},
   "source": [
    "### 字符串处理函数\n",
    "- 一些以函数形式提供的字符串处理功能\n",
    "\n",
    "|函数及使用|描述          |\n",
    "|:-------|-------------:|\n",
    "|len(x)  |长度，返回字符串x的长度，如len(\"一二三456\")结果为6|\n",
    "|str(x)  |任意类型x所对应的字符串形式，如str(1.23)结果为\"1.23\"；str([1,2])结果为\"[1,2]\"|\n",
    "|hex(x)或oct(x)|整数x的十六进制或八进制小写形式字符串，如hex(425)结果为\"0x1a9\"；oct(425)结果为\"0o651\"|\n",
    "|chr(u)  |u为Unicode编码，返回其对应的字符|\n",
    "|ord(x)  |x为字符，返回其对应的Unicode编码|\n",
    "\n",
    "                                                    chr(u)\n",
    "                                                  ---------->\n",
    "                                        Unicode   <----------   单字符\n",
    "                                                    ord(x)\n",
    "- Python字符串的编码方式\n",
    "    - 统一字符编码，即覆盖几乎所有字符的编码方式\n",
    "    - 从0到1114111（0x10FFFF）空间，每个编码对应一个字符\n",
    "    - Python字符串中每个字符都是Unicode编码字符"
   ]
  },
  {
   "cell_type": "code",
   "execution_count": 9,
   "metadata": {},
   "outputs": [
    {
     "data": {
      "text/plain": [
       "'1 + 1 = 2✔'"
      ]
     },
     "execution_count": 9,
     "metadata": {},
     "output_type": "execute_result"
    }
   ],
   "source": [
    "# Unicode编码的一些例子1\n",
    "\"1 + 1 = 2\" + chr(10004)"
   ]
  },
  {
   "cell_type": "code",
   "execution_count": 10,
   "metadata": {},
   "outputs": [
    {
     "data": {
      "text/plain": [
       "'这个字符♉的Unicode值是：9801'"
      ]
     },
     "execution_count": 10,
     "metadata": {},
     "output_type": "execute_result"
    }
   ],
   "source": [
    "# Unicode编码的一些例子2\n",
    "\"这个字符♉的Unicode值是：\" + str(ord(\"♉\"))"
   ]
  },
  {
   "cell_type": "code",
   "execution_count": 12,
   "metadata": {},
   "outputs": [
    {
     "name": "stdout",
     "output_type": "stream",
     "text": [
      "♈♉♊♋♌♍♎♏♐♑♒♓"
     ]
    }
   ],
   "source": [
    "# Unicode编码的一些例子3\n",
    "for i in range(12):\n",
    "    print(chr(9800 + i), end=\"\") # end=\"\"表示输出不换行"
   ]
  },
  {
   "cell_type": "markdown",
   "metadata": {},
   "source": [
    "### 字符串处理方法\n",
    "- “方法”在编程中是一个 专有名词\n",
    "    - “方法”特指&#60;a>.&#60;b>()风格中的函数&#60;b>()\n",
    "    - 方法 本身也是函数，但与&#60;a>有关，必须采用&#60;a>.&#60;b>()风格使用\n",
    "    - 字符串及变量也是&#60;a>，存在一些方法\n",
    "- 一些以方法形式提供的字符串处理功能\n",
    "\n",
    "|方法及使用        |描述           |\n",
    "|:---------------|--------------:|\n",
    "|str.lower()或str.upper()|返回字符串的副本，全部字符小写或大写，如\"AbCdEfGh\".lower()结果为\"abcdefgh\"|\n",
    "|str.split(sep=None)|返回一个列表，由str根据sep被分隔的部分组成，如\"A,B,C\".split(\",\")结果为['A','B','C']|\n",
    "|str.count(sub)|返回子串sub在str中出现的次数，如\"an apple a day\".count(\"a\")结果为4|\n",
    "|str.replace(old,new)|返回字符串str副本，所有old子串被替换为new，如\"Python\".replace(\"n\",\"n123.io\")结果为\"Python123.io\"|\n",
    "|str.center(width[,fillchar])|字符串str根据宽度width居中，fillchar可选，如\"Python\".center(20,\"=\")结果为'=======python======='|\n",
    "|str.strip(chars)|从str中去掉在其左侧和右侧chars中列出的字符，如\"= python= \".strip(\" =np\")结果为\"ytho\"|\n",
    "|str.join(iter)|在iter变量除最后元素外每个元素后增加一个str（主要用于字符串分隔等），如\",\".join(\"12345\")结果为\"1,2,3,4,5\"|\n",
    "\n",
    "### 字符串类型的格式化\n",
    "- 格式化是对字符串进行格式表达的方式\n",
    "- 字符串格式化使用.format()方法，用法如下：\n",
    "        <模板字符串>.format(<逗号分隔的参数>)\n",
    "- 槽\n",
    "    - 相当于一个占位信息符，使用一对大括号{}来表示\n",
    "    - 只在字符串中有用\n",
    "    - 槽可以嵌套槽使用\n",
    "    \n",
    "            \"{}:计算机{}的CPU占用率为{}%\".format(\"2018-10-10\"，\"C\"，10)\n",
    "              ^      ^             ^                ^        ^   ^\n",
    "              |      |             |                |        |   |\n",
    "              0      1             2                0        1   2\n",
    "             ----------------------->             ------------------->\n",
    "              字符串中槽{}的默认顺序                  format()中参数的顺序\n",
    "              \n",
    "              将format()中的参数按照对应的顺序添加到模板字符串的槽中\n",
    "              可以在槽中指定要添加的参数的位置\n",
    "              ---------------------------------------------------\n",
    "              |        ---------------------------------        |\n",
    "              |        |                               |        |\n",
    "              |        |                               V        V\n",
    "            \"{1}:计算机{0}的CPU占用率为{2}%\".format(\"2018-10-10\"，\"C\"，10)\n",
    "                                     |                              ^\n",
    "                                     |______________________________|\n",
    "    - 槽内部对格式化的配置方式\n",
    "            {<参数序号>:<格式控制标记>} 其中 : 是引导符号\n",
    "\n",
    "|格式控制标记|<填充>|<对齐>|<宽度>|<,>|<.精度>|<类型>|\n",
    "|:---------|:---:|:---:|:---:|:---:|:---:|:---:|\n",
    "|符号|用于填充的单个字符|<&nbsp;左对齐|槽设定的输出宽度|数字的千位分隔符|浮点数小数精度|整数类型b,c,d,o,x,X|\n",
    "|   |               |>&nbsp;右对齐|              |             |字符串最大输出长度|浮点数类型e,E,f,%|\n",
    "|   |               |^&nbsp;居中对齐|            |             |               |                |\n",
    "\n",
    "                    例：\"{0:=^20}\".format(\"PYTHON\")    例：\"{0:,.2f}\".format(12345.6789)\n",
    "                        指以 = 填充，居中对齐，输出宽度为20    指增加千位分隔符，输出浮点数类型，保留两位小数\n",
    "                        结果为'=======PYTHON======='       结果为'12,345.68'\n",
    "                        \n",
    "                        \"{0:*>20}\".format(\"BIT\")          \"{0:b},{0:c},{0:d},{0:o},{0,x},{0,X}\".format(425)\n",
    "                        指以 * 填充，右对齐，输出宽度为20      分别输出二进制、字符（Unicode）、十进制、八进制、十六进制形式\n",
    "                        结果为'*****************BIT'       结果为'110101001,∑,425,651,1a9,1A9'\n",
    "                        \n",
    "                        \"{:10}\".format(\"BIT\")             \"{0:e},{0:E},{0:f},{0:%}\".format(3.14)\n",
    "                        省略填充、对齐，输出宽度10            分别输出科学计数法、非科学计数法浮点数、百分数形式\n",
    "                        默认情况下以 （空格）填充、左对齐       结果是'3.140000e+00,3.140000E+00,3.140000,314.000000%'\n",
    "                        结果为'BIT       '\n"
   ]
  },
  {
   "cell_type": "markdown",
   "metadata": {},
   "source": [
    "## 模块2：time库的使用\n",
    "- time库基本介绍\n",
    "- 时间获取\n",
    "- 时间格式化\n",
    "- 程序计时应用"
   ]
  },
  {
   "cell_type": "markdown",
   "metadata": {},
   "source": [
    "### time库基本介绍\n",
    "- time库是Python中处理时间的标准库\n",
    "    - 计算机时间的表达\n",
    "    - 提供获取系统时间并格式化输出功能\n",
    "    - 提供系统级精确计时功能，用于程序性能分析\n",
    "    - 使用方法：\n",
    "            import time\n",
    "            time.<b>()\n",
    "    \n",
    "- time库包括三类函数\n",
    "    - 时间获取：time(), ctime(), gmtime()\n",
    "    - 时间格式化：strftime(), strptime()\n",
    "    - 程序计时：sleep(), perf_counter()"
   ]
  },
  {
   "cell_type": "markdown",
   "metadata": {},
   "source": [
    "### 时间获取\n",
    "|函数  |描述   |\n",
    "|:-----|-----:|\n",
    "|time()|获取当前时间戳，即计算机内部时间值，浮点数，如time.time()，结果为1516939876.6022282|\n",
    "|ctime()|获取当前时间并以易读方式表示，返回字符串，如time.ctime()，结果为Fri Jan 26 12:11:16 2018|\n",
    "|gmtime()|获取当前时间，表示为计算机可处理的时间格式，如time.gmtime()，结果为time.struct_time(tm_year=2018, tm_mon=1, tm_mday=26 tm_hour=4, tm_min=11, tm_sec=16, tm_wday=4, tm_yday=26, tm_isdst=0|"
   ]
  },
  {
   "cell_type": "markdown",
   "metadata": {},
   "source": [
    "### 时间格式化\n",
    "- 将时间以合理的方式展示出来\n",
    "    - 格式化：类似字符串格式化，需要有展示模板\n",
    "    - 展示模板由特定的格式化控制符组成\n",
    "    - strftime()方法\n",
    "    \n",
    "|函数  |描述  |\n",
    "|:----|:-----|\n",
    "|strftime(tpl,ts)|tpl是格式化模板字符串，用来定义输出效果，ts是计算机内部时间类型变量，如|\n",
    "|                |t = time.gmtime()|\n",
    "|                |time.strftime(\"%Y-%m-%d %H:%M:%S\",t)|\n",
    "|                |结果为'2018-01-26 12:55:20'|\n",
    "|strptime(str,tpl)|str是字符串形式的时间，tpl是格式化模板字符串，用来定义输入效果，如|\n",
    "|                |timeStr = '2018-01-26 12:55:20'|\n",
    "|                |time.strptime(timeStr, \"%Y-%m-%d %H:%M:%S\")|\n",
    "|                |结果为time.struct_time(tm_year=2018, tm_mon=1, tm_mday=26 tm_hour=12, tm_min=55, tm_sec=20, tm_wday=4, tm_yday=26, tm_isdst=0|\n",
    "\n",
    "\n",
    "|格式化字符串|日期/时间说明|值范围和实例|\n",
    "|:---------|:---------:|---------:|\n",
    "|%Y        |年份        |0000~9999，如：1900|\n",
    "|%m        |月份        |01~12，如：10|\n",
    "|%B        |月份名称     |January~December，如April|\n",
    "|%b        |月份名称缩写 |Jan~Dec，如：Apr|\n",
    "|%d        |日期        |01~31，如：25|\n",
    "|%A        |星期        |Monday~Sunday，如：Wednesday|\n",
    "|%a        |星期缩写     |Mon~Sun，如：Wed|\n",
    "|%H        |小时（24h制）|00~23，如：12|\n",
    "|%I        |小时（12h制）|01~12，如：7\n",
    "|%p        |上/下午     |AM，PM，如：PM|\n",
    "|%M        |分钟        |00~59，如：26|\n",
    "|%S        |秒          |00~59，如：26|"
   ]
  },
  {
   "cell_type": "markdown",
   "metadata": {},
   "source": [
    "### 程序计时应用\n",
    "- 程序计时指测量起止动作所经历时间的过程\n",
    "- 测量时间：perf_counter()\n",
    "- 产生时间：sleep()\n",
    "\n",
    "|函数   |描述     |\n",
    "|:-----|:---------|\n",
    "|perf_counter()|返回一个CPU级别的精确时间计数值，单位为秒，由于这个计数值起点不确定，连续调用差值才有意义，如：|\n",
    "|              |start = time.perf_counter()|\n",
    "|              |结果为318.66599499718114|\n",
    "|              |end = time.perf_counter()|\n",
    "|              |结果为341.3905185375658|\n",
    "|              |end - start|\n",
    "|              |结果为22.724523540384666|\n",
    "|sleep(s)|s拟休眠的时间，单位是秒，可以是浮点数，如|\n",
    "|        |def wait():|\n",
    "|        |&emsp;&emsp;time.sleep(3.3)|\n",
    "|        |wait() # 程序将等待3.3秒后再退出|"
   ]
  },
  {
   "cell_type": "markdown",
   "metadata": {},
   "source": [
    "## 实例4：文本进度条\n",
    "### 需求分析\n",
    "- 文本进度条\n",
    "    - 采用字符串方式打印可以动态变化的文本进度条\n",
    "    - 进度条需要能在一行中逐渐变化\n",
    "    \n",
    "### 问题分析\n",
    "- 如何获得文本进度条的变化时间\n",
    "    - 采用sleep()模拟一个持续的进度"
   ]
  },
  {
   "cell_type": "code",
   "execution_count": 4,
   "metadata": {},
   "outputs": [
    {
     "name": "stdout",
     "output_type": "stream",
     "text": [
      "------执行开始------\n",
      " 0 %[->..........]\n",
      "10 %[*->.........]\n",
      "20 %[**->........]\n",
      "30 %[***->.......]\n",
      "40 %[****->......]\n",
      "50 %[*****->.....]\n",
      "60 %[******->....]\n",
      "70 %[*******->...]\n",
      "80 %[********->..]\n",
      "90 %[*********->.]\n",
      "100%[**********->]\n",
      "------执行结束------\n"
     ]
    }
   ],
   "source": [
    "# TextProBarV1\n",
    "import time # 引入time库\n",
    "scale = 10 # 文本进度条的宽度为10\n",
    "print(\"------执行开始------\")\n",
    "for i in range(scale+1):\n",
    "    a = '*' * i # * 被复制的次数，从输出效果看，* 指当前的百分比的信息\n",
    "    b = '.' * (scale - i) # . 代表当前剩余的进度条的比例的信息\n",
    "    c = (i / scale) * 100 # 与当前进度条和进度相关的百分比\n",
    "    print(\"{:^3.0f}%[{}->{}]\".format(c,a,b))\n",
    "    time.sleep(0.1) # 定义休眠时间\n",
    "print(\"------执行结束------\")"
   ]
  },
  {
   "cell_type": "markdown",
   "metadata": {},
   "source": [
    "### 单行动态刷新\n",
    "- 刷新的本质是：用后打印的字符覆盖之前的字符\n",
    "- 不能换行：print()需要被控制\n",
    "- 要能退回：打印后光标退回到之前的位置\\r"
   ]
  },
  {
   "cell_type": "code",
   "execution_count": 5,
   "metadata": {},
   "outputs": [
    {
     "name": "stdout",
     "output_type": "stream",
     "text": [
      "100%"
     ]
    }
   ],
   "source": [
    "# TextProBarV2\n",
    "import time\n",
    "for i in range(101):\n",
    "    print(\"\\r{:3}%\".format(i), end=\"\") # end=\"\"能使输出信息不换行，\\r指在打印输出字符串之前使光标退回当前行的行首\n",
    "    time.sleep(0.1)"
   ]
  },
  {
   "cell_type": "markdown",
   "metadata": {},
   "source": [
    "### 完整效果"
   ]
  },
  {
   "cell_type": "code",
   "execution_count": 5,
   "metadata": {},
   "outputs": [
    {
     "name": "stdout",
     "output_type": "stream",
     "text": [
      "-----------执行开始----------\n",
      "100%[**************************************************->]5.04s\n",
      "-----------执行结束----------\n"
     ]
    }
   ],
   "source": [
    "# TextProBarV3\n",
    "import time\n",
    "scale = 50\n",
    "print(\"执行开始\".center(scale//2,\"-\"))\n",
    "start = time.perf_counter()\n",
    "for i in range(scale+1):\n",
    "    a = '*' * i\n",
    "    b = '.' * (scale - i)\n",
    "    c = (i / scale) * 100\n",
    "    dur = time.perf_counter() - start\n",
    "    print(\"\\r{:^3.0f}%[{}->{}]{:.2f}s\".format(c,a,b,dur), end=\"\")\n",
    "    time.sleep(0.1)\n",
    "print(\"\\r\\n\"+\"执行结束\".center(scale//2,'-'))"
   ]
  },
  {
   "cell_type": "markdown",
   "metadata": {},
   "source": [
    "### 举一反三\n",
    "- 计算问题扩展\n",
    "    - 文本进度条程序使用了perf_counter()计时\n",
    "    - 计时方法适合各类需要统计时间的计算问题\n",
    "        - 如：比较不同算法时间、统计部分程序运行时间\n",
    "- 进度条扩展\n",
    "    - 在任何运行时间需要较长的程序中增加进度条\n",
    "    - 在任何希望提高用户体验的应用中增加进度条\n",
    "    - 进度条是人机交互的纽带之一"
   ]
  },
  {
   "cell_type": "code",
   "execution_count": 12,
   "metadata": {},
   "outputs": [
    {
     "name": "stdout",
     "output_type": "stream",
     "text": [
      "10\n",
      "--------1000--------\n"
     ]
    }
   ],
   "source": [
    "# 三次方格式化\n",
    "a = input()\n",
    "print(str(pow(eval(a),3)).center(20,'-'))"
   ]
  },
  {
   "cell_type": "code",
   "execution_count": 40,
   "metadata": {},
   "outputs": [
    {
     "name": "stdout",
     "output_type": "stream",
     "text": [
      "7\n",
      "   *   \n",
      "  ***  \n",
      " ***** \n",
      "*******\n"
     ]
    }
   ],
   "source": [
    "# 星号三角形\n",
    "N = eval(input())\n",
    "for i in range(1,N+1,2): # 以步长为2，产生从1至N+1的整数序列\n",
    "    print(\"{:^{}}\".format('*'*i, N))"
   ]
  },
  {
   "cell_type": "code",
   "execution_count": 99,
   "metadata": {},
   "outputs": [
    {
     "name": "stdout",
     "output_type": "stream",
     "text": [
      "Python is good\n",
      "Sbwkrq lv jrrg\n"
     ]
    }
   ],
   "source": [
    "# 凯撒密码\n",
    "P = input()\n",
    "C = \"\" # 若不给C赋值为空字符串，则每次运行后的结果会叠加\n",
    "for i in P:\n",
    "    if 'a' <= i <= 'z': # 字符串通过内置函数ord()获取每个字符的Unicode编码进行大小比较\n",
    "        C += chr(ord('a') + (ord(i) - ord('a') + 3) % 26)\n",
    "    elif 'A' <= i <= 'Z':\n",
    "        C += chr(ord('A') + (ord(i) - ord('A') + 3) % 26)\n",
    "    else:\n",
    "        C += i\n",
    "print(C)"
   ]
  },
  {
   "cell_type": "code",
   "execution_count": 5,
   "metadata": {},
   "outputs": [
    {
     "name": "stdout",
     "output_type": "stream",
     "text": [
      "10\n",
      "+++++++++++++++++++++++++3.162\n"
     ]
    }
   ],
   "source": [
    "# 平方根格式化\n",
    "a = pow(eval(input()),0.5)\n",
    "print(\"{0:+>30.3f}\".format(a))"
   ]
  },
  {
   "cell_type": "code",
   "execution_count": 8,
   "metadata": {},
   "outputs": [
    {
     "name": "stdout",
     "output_type": "stream",
     "text": [
      "Alice-Bob-Charis-David-Eric-Flurry\n",
      "Alice+Flurry\n"
     ]
    }
   ],
   "source": [
    "# 字符串分段组合\n",
    "s = input().split(\"-\")\n",
    "print(s[0]+\"+\"+s[-1])"
   ]
  }
 ],
 "metadata": {
  "kernelspec": {
   "display_name": "Python 3",
   "language": "python",
   "name": "python3"
  },
  "language_info": {
   "codemirror_mode": {
    "name": "ipython",
    "version": 3
   },
   "file_extension": ".py",
   "mimetype": "text/x-python",
   "name": "python",
   "nbconvert_exporter": "python",
   "pygments_lexer": "ipython3",
   "version": "3.7.4"
  },
  "toc": {
   "base_numbering": 1,
   "nav_menu": {},
   "number_sections": true,
   "sideBar": true,
   "skip_h1_title": false,
   "title_cell": "Table of Contents",
   "title_sidebar": "Contents",
   "toc_cell": false,
   "toc_position": {},
   "toc_section_display": true,
   "toc_window_display": false
  }
 },
 "nbformat": 4,
 "nbformat_minor": 2
}
